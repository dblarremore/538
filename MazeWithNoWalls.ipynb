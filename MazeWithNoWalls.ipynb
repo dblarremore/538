{
 "cells": [
  {
   "cell_type": "markdown",
   "metadata": {},
   "source": [
    "[Dan Larremore](http://twitter.com/danlarremore)\n",
    "\n",
    "Feb 2, 2019\n",
    "\n",
    "Notes on [Can you escape a maze without walls?](https://fivethirtyeight.com/features/can-you-escape-a-maze-without-walls/)"
   ]
  },
  {
   "cell_type": "markdown",
   "metadata": {},
   "source": [
    "# Strategy"
   ]
  },
  {
   "cell_type": "markdown",
   "metadata": {},
   "source": [
    "First of all, let's just solve the generic problem in order to solve this specific one. \n",
    "\n",
    "Second, let's reconsider the problem as an *escape* problem. You're at the smiley face, and you want to get out of the maze to the border. The behavior of S, U, and X squares is the same, but L squares send you right and R squares send you left. **We want to find an escape path from the goal to any boundary in the fewest number of hops**.\n",
    "\n",
    "The key to both of the solutions below is that we'll split each grid square into what it really is: four nodes (top left bottom right), each of which has a different ability to connect to neighboring nodes. \n",
    "\n",
    "**Network Visualization Approach**\n",
    "Why don't we just *build* this network and color the nodes by the type of node. If there is a connected path between a goal node and a boundary node, we'll just be able to see it. \n",
    "\n",
    "We'll use some code called [webweb](https://webwebpage.github.io) that makes network visualizations easy from Python, recently rewritten by my grad student, [Hunter Wapman](http://twitter.com/hneutr). \n",
    "\n",
    "The code plots the network as a grid, as described above, and it freeze the position of the nodes. **You can move the nodes around with your mouse if you like** and trace the escape path. I get a path length of 18. You can also uncheck the box that freezes node movement, and the system will \"relax\" allowing you to chart the number of hops from the Goal to the Boundary. \n",
    "\n",
    "**Network Traversal Approach (no viz)**\n",
    "Number the positions of the grid like a matrix, with (1,1) being the upper left entry, and (n,n) being the bottom right entry. Now consider a network whose directed edges describe movement as dictated by the rules of the maze... but rather than considering each square in the gride as a single vertex, let each square in the grid be represented by four vertices, enumerated {1,2,3,4} corresponding to {up,left,down,right} directions. \n",
    "\n",
    "This means that we're going to take the $n^2$ positions in the grid and from them create $4n^2$ vertices in a network of one-hop moves. We'll also add another set of vertices representing the possible entry points to the game board from the outside, another $4n$ vertices. In total, our graph will have $N = 4n^2 + 4n$ vertices, or, if you've been taught to factor everything, $N = 4n(n+1)$ vertices. \n",
    "\n",
    "For convenience, we'll enumerate the vertices using 3 coordinates $(i,j,k)$ where $i$ and $j$ represent the position in the matrix (with row/column 0 and row/column $n$ being the boundaries) and $k \\in \\{1,2,3,4\\}$ representing the four directions. (When this is coded up, we'll write 1-to-4 as 0-to-3 because python is zero-indexed).\n",
    "\n",
    "Once we have the \"forward\" network, whose directed adjacency matrix is given by $A$---where $A_{uv}$ means that you can move from $u \\to v$ in one step---our questions are generic network traversal questions. The transpose $B = A^{T}$ represents the movements _backward_ along the graph, and the entries of $B^t$ represent the number of paths there are from one node to another, backwards, in exactly $t$ steps. This means that we can consider the set of entries of $B^t$ that represent backward paths from **our goal** (a set of 4 nodes!) to **any boundary** (a set of 4n nodes!). Increment $t$ until one of those entries of $B^t$ is nonzero, and that's your answer to the puzzle. \n",
    "\n",
    "Note that the puzzle doesn't actually ask for the path, just the minimum number of steps, so we're good to use this method. \n",
    "\n",
    "Also note that _if_ the goal is unreachable, there will be no value of $t$ that allows us to move all the way through the graph. A cheap upper bound on $t$ should be $N-1$, since the longest traversal of the network would touch all nodes before getting to the goal, and I call this a cheap bound because $N$ includes the boundary nodes, which any maximum-length traversal would include only one of.\n"
   ]
  },
  {
   "cell_type": "markdown",
   "metadata": {},
   "source": [
    "### Action of \"L\" Squares"
   ]
  },
  {
   "cell_type": "markdown",
   "metadata": {},
   "source": [
    "Create the following edges:\n",
    "$$\n",
    "\\begin{align}\n",
    "    (i,j,1) &\\to (i,j+1,2)\\\\\n",
    "    (i,j,2) &\\to (i-1,j,3)\\\\\n",
    "    (i,j,3) &\\to (i,j-1,4)\\\\\n",
    "    (i,j,4) &\\to (i+1,j,1)\n",
    "\\end{align}\n",
    "$$"
   ]
  },
  {
   "cell_type": "markdown",
   "metadata": {},
   "source": [
    "### Action of \"R\" Squares"
   ]
  },
  {
   "cell_type": "markdown",
   "metadata": {},
   "source": [
    "Create the following edges:\n",
    "$$\n",
    "\\begin{align}\n",
    "    (i,j,1) &\\to (i,j-1,4)\\\\\n",
    "    (i,j,2) &\\to (i+1,j,1)\\\\\n",
    "    (i,j,3) &\\to (i,j+1,2)\\\\\n",
    "    (i,j,4) &\\to (i-1,j,3)\n",
    "\\end{align}\n",
    "$$"
   ]
  },
  {
   "cell_type": "markdown",
   "metadata": {},
   "source": [
    "### Action of \"U\" Squares"
   ]
  },
  {
   "cell_type": "markdown",
   "metadata": {},
   "source": [
    "Create the following edges:\n",
    "$$\n",
    "\\begin{align}\n",
    "    (i,j,1) &\\to (i-1,j,3)\\\\\n",
    "    (i,j,2) &\\to (i,j-1,4)\\\\\n",
    "    (i,j,3) &\\to (i+1,j,1)\\\\\n",
    "    (i,j,4) &\\to (i,j+1,2)\n",
    "\\end{align}\n",
    "$$"
   ]
  },
  {
   "cell_type": "markdown",
   "metadata": {},
   "source": [
    "### Action of \"X\" Squares"
   ]
  },
  {
   "cell_type": "markdown",
   "metadata": {},
   "source": [
    "Create no outgoing edges"
   ]
  },
  {
   "cell_type": "markdown",
   "metadata": {},
   "source": [
    "### Action of \"?\" Squares"
   ]
  },
  {
   "cell_type": "markdown",
   "metadata": {},
   "source": [
    "Let $V_{ij} = \\{(i-1,j,3), (i,j-1,4), (i+1,j,1), (i,j+1,2) \\}$\n",
    "\n",
    "Then, create the following edges:\n",
    "$$\n",
    "\\begin{align}\n",
    "    (i,j,1) &\\to V_{ij}\\\\\n",
    "    (i,j,2) &\\to V_{ij}\\\\\n",
    "    (i,j,3) &\\to V_{ij}\\\\\n",
    "    (i,j,4) &\\to V_{ij}\n",
    "\\end{align}\n",
    "$$"
   ]
  },
  {
   "cell_type": "markdown",
   "metadata": {},
   "source": [
    "# Code"
   ]
  },
  {
   "cell_type": "code",
   "execution_count": 10,
   "metadata": {},
   "outputs": [],
   "source": [
    "import numpy as np\n",
    "from webweb import Web"
   ]
  },
  {
   "cell_type": "code",
   "execution_count": 27,
   "metadata": {},
   "outputs": [],
   "source": [
    "# We need something that can take in an array of symbols and generate a graph. \n",
    "# Let's store the graph as an edge list, i.e. (u,v) means an edge from u to v\n",
    "\n",
    "# L - Suppose there is an L at position [i,j] in the grid? Return the list of edges to be added to the graph.\n",
    "def get_edges_L(i,j):\n",
    "    return [\n",
    "        [[i,j,0],[i,j+1,1]], \n",
    "        [[i,j,1],[i-1,j,2]], \n",
    "        [[i,j,2],[i,j-1,3]], \n",
    "        [[i,j,3],[i+1,j,0]]]\n",
    "\n",
    "# R - Suppose there is an R at position [i,j] in the grid? Return the list of edges to be added to the graph.\n",
    "def get_edges_R(i,j):\n",
    "    return [\n",
    "        [[i,j,0],[i,j-1,3]], \n",
    "        [[i,j,1],[i+1,j,0]], \n",
    "        [[i,j,2],[i,j+1,1]], \n",
    "        [[i,j,3],[i-1,j,2]]]\n",
    "\n",
    "# U - Suppose there is an U at position [i,j] in the grid? Return the list of edges to be added to the graph.\n",
    "def get_edges_U(i,j):\n",
    "    return [\n",
    "        [[i,j,0],[i-1,j,2]], \n",
    "        [[i,j,1],[i,j-1,3]], \n",
    "        [[i,j,2],[i+1,j,0]], \n",
    "        [[i,j,3],[i,j+1,1]]]\n",
    "\n",
    "# S - Suppose there is an S at position [i,j] in the grid? Return the list of edges to be added to the graph.\n",
    "def get_edges_S(i,j):\n",
    "    return [\n",
    "        [[i,j,0],[i+1,j,0]], \n",
    "        [[i,j,1],[i,j+1,1]], \n",
    "        [[i,j,2],[i-1,j,2]], \n",
    "        [[i,j,3],[i,j-1,3]]]\n",
    "\n",
    "# ? - Suppose there is an ? at position [i,j] in the grid? Return the list of edges to be added to the graph.\n",
    "def get_edges_Q(i,j):\n",
    "    vij = [[i-1,j,2],[i,j-1,3],[i+1,j,0], [i,j+1,1]]\n",
    "    e = []\n",
    "    here = [[i,j,0],[i,j,1],[i,j,2],[i,j,3]]\n",
    "    for source in here:\n",
    "        for destination in vij:\n",
    "            e.append([source,destination])\n",
    "    return e\n",
    "\n",
    "\n",
    "# Also do boundaries:\n",
    "def get_edge_boundary(i,j,n):\n",
    "    # top\n",
    "    if i==0:\n",
    "        return [[[i,j,2],[i+1,j,0]]]\n",
    "    # left\n",
    "    if j==0: \n",
    "        return [[[i,j,3],[i,j+1,1]]]\n",
    "    # bottom\n",
    "    if i==n-1:\n",
    "        return [[[i,j,0],[i-1,j,2]]]\n",
    "    # right\n",
    "    if j==n-1:\n",
    "        return [[[i,j,1],[i,j-1,3]]]\n",
    "\n",
    "# all together now\n",
    "def get_edges(i,j,n,char):\n",
    "    if char=='L':\n",
    "        return get_edges_L(i,j)\n",
    "    elif char=='R':\n",
    "        return get_edges_R(i,j)\n",
    "    elif char=='U':\n",
    "        return get_edges_U(i,j)\n",
    "    elif char=='S':\n",
    "        return get_edges_S(i,j)\n",
    "    elif char=='?':\n",
    "        return get_edges_Q(i,j)\n",
    "    elif char=='B':\n",
    "        return get_edge_boundary(i,j,n)\n",
    "    else:\n",
    "        return []\n",
    "\n",
    "def clean_edges(edgelist,n):\n",
    "    # remove any edge that points to B, since those result in losses. \n",
    "    cleanedges = []\n",
    "    for edge in edgelist:\n",
    "        to = edge[1]\n",
    "        if not np.any([to[0]==0,to[0]==(n-1),to[1]==0,to[1]==(n-1)]):\n",
    "            cleanedges.append(edge)\n",
    "        else:\n",
    "            print(edge)\n",
    "    return cleanedges"
   ]
  },
  {
   "cell_type": "code",
   "execution_count": 28,
   "metadata": {},
   "outputs": [],
   "source": [
    "def pad_grid(grid):\n",
    "    grid = np.insert(grid,np.size(grid,0),'B',axis=0)\n",
    "    grid = np.insert(grid,np.size(grid,1),'B',axis=1)\n",
    "    grid = np.insert(grid,0,'B',axis=0)\n",
    "    grid = np.insert(grid,0,'B',axis=1)\n",
    "    grid[0,0] = ' '\n",
    "    grid[0,-1] = ' '\n",
    "    grid[-1,0] = ' '\n",
    "    grid[-1,-1] = ' '\n",
    "    for row in grid:\n",
    "        for char in row:\n",
    "            print('{} '.format(char),end='')\n",
    "        print('')\n",
    "    return grid"
   ]
  },
  {
   "cell_type": "code",
   "execution_count": 29,
   "metadata": {},
   "outputs": [],
   "source": [
    "def grid2list(grid):\n",
    "    n = np.size(grid,0)\n",
    "    edgelist = []\n",
    "    # do the board\n",
    "    for i,row in enumerate(grid):\n",
    "        for j,token in enumerate(row):\n",
    "            edgelist += get_edges(i,j,n,token)\n",
    "    edgelist = clean_edges(edgelist,n)\n",
    "    return edgelist,rewrite_edgelist(edgelist,n,grid)"
   ]
  },
  {
   "cell_type": "code",
   "execution_count": 30,
   "metadata": {},
   "outputs": [],
   "source": [
    "def triple2int(tr,n):\n",
    "    return 4*(n*tr[1]+tr[0]) + tr[2]"
   ]
  },
  {
   "cell_type": "code",
   "execution_count": 31,
   "metadata": {},
   "outputs": [],
   "source": [
    "def rewrite_edgelist(edgelist,n,grid):\n",
    "    e = []\n",
    "    for edge in edgelist:\n",
    "        e += [[triple2int(edge[0],n),triple2int(edge[1],n)]]\n",
    "    return e"
   ]
  },
  {
   "cell_type": "code",
   "execution_count": 32,
   "metadata": {},
   "outputs": [],
   "source": [
    "def visualize_board(board):\n",
    "    expanded_labels = {'B':' Boundary', 'G':' Goal','S':'Straight',\n",
    "                       'L':'Left','R':'Right','X':'Dead End','?':'Any Direction','U':'U-turn'}\n",
    "    board = pad_grid(board)\n",
    "    raw,edgelist = grid2list(board)\n",
    "    dim = 100*np.size(board,0)\n",
    "    pad = 0.1\n",
    "    visn = np.size(board,0)-1\n",
    "    dxdy = {0:[0,-1], 1:[-1,0], 2:[0,1], 3:[1,0]}\n",
    "    nodes = {}\n",
    "    for idx,edge in enumerate(edgelist):\n",
    "        i = raw[idx][0]\n",
    "        label = board[i[0]][i[1]]\n",
    "        nodenumber = edge[0]\n",
    "        nodes[nodenumber] = {}\n",
    "        nodes[nodenumber]['rule'] = expanded_labels[label]       \n",
    "        nodes[nodenumber]['y'] = (i[0] + 0.1*dxdy[i[2]][1])/visn*(1-2*pad)*dim + pad*dim\n",
    "        nodes[nodenumber]['x'] = (i[1] + 0.1*dxdy[i[2]][0])/visn*(1-2*pad)*dim + pad*dim\n",
    "\n",
    "        j = raw[idx][1]\n",
    "        label = board[j[0]][j[1]]\n",
    "        nodenumber = edge[1]\n",
    "        nodes[nodenumber] = {}\n",
    "        nodes[nodenumber]['rule'] = expanded_labels[label] \n",
    "        nodes[nodenumber]['y'] = (j[0] + 0.1*dxdy[j[2]][1])/visn*(1-2*pad)*dim + pad*dim\n",
    "        nodes[nodenumber]['x'] = (j[1] + 0.1*dxdy[j[2]][0])/visn*(1-2*pad)*dim + pad*dim\n",
    "    web = Web(\n",
    "        adjacency = edgelist,\n",
    "        display ={\n",
    "            'nodes' : nodes,\n",
    "        }\n",
    "    )\n",
    "    web.display.colorBy = 'rule'\n",
    "    web.display.colorPalette = 'Paired'\n",
    "    web.display.freezeNodeMovement = True\n",
    "    web.display.width = dim\n",
    "    web.display.height = dim\n",
    "    return web"
   ]
  },
  {
   "cell_type": "code",
   "execution_count": 33,
   "metadata": {},
   "outputs": [
    {
     "name": "stdout",
     "output_type": "stream",
     "text": [
      "  B B B   \n",
      "B U L X B \n",
      "B U G ? B \n",
      "B U L X B \n",
      "  B B B   \n",
      "[[1, 1, 0], [0, 1, 2]]\n",
      "[[1, 1, 1], [1, 0, 3]]\n",
      "[[1, 2, 1], [0, 2, 2]]\n",
      "[[2, 1, 1], [2, 0, 3]]\n",
      "[[2, 3, 0], [2, 4, 1]]\n",
      "[[2, 3, 1], [2, 4, 1]]\n",
      "[[2, 3, 2], [2, 4, 1]]\n",
      "[[2, 3, 3], [2, 4, 1]]\n",
      "[[3, 1, 1], [3, 0, 3]]\n",
      "[[3, 1, 2], [4, 1, 0]]\n",
      "[[3, 2, 3], [4, 2, 0]]\n"
     ]
    }
   ],
   "source": [
    "board = [\n",
    "    ['U','L','X'],['U','G','?'],['U','L','X']]\n",
    "web = visualize_board(board)\n",
    "web.show()"
   ]
  },
  {
   "cell_type": "code",
   "execution_count": 34,
   "metadata": {},
   "outputs": [
    {
     "name": "stdout",
     "output_type": "stream",
     "text": [
      "  B B B B B B B B   \n",
      "B L U U ? U L X L B \n",
      "B R L R L U G U U B \n",
      "B S L R L U L X R B \n",
      "B U R ? R S L ? R B \n",
      "B R U U R R R S L B \n",
      "B S ? S L S S L R B \n",
      "B R L R ? R L ? L B \n",
      "B L R S R S L R L B \n",
      "  B B B B B B B B   \n",
      "[[1, 1, 1], [0, 1, 2]]\n",
      "[[1, 1, 2], [1, 0, 3]]\n",
      "[[1, 2, 0], [0, 2, 2]]\n",
      "[[1, 3, 0], [0, 3, 2]]\n",
      "[[1, 4, 0], [0, 4, 2]]\n",
      "[[1, 4, 1], [0, 4, 2]]\n",
      "[[1, 4, 2], [0, 4, 2]]\n",
      "[[1, 4, 3], [0, 4, 2]]\n",
      "[[1, 5, 0], [0, 5, 2]]\n",
      "[[1, 6, 1], [0, 6, 2]]\n",
      "[[1, 8, 0], [1, 9, 1]]\n",
      "[[1, 8, 1], [0, 8, 2]]\n",
      "[[2, 1, 0], [2, 0, 3]]\n",
      "[[2, 8, 3], [2, 9, 1]]\n",
      "[[3, 1, 3], [3, 0, 3]]\n",
      "[[3, 8, 2], [3, 9, 1]]\n",
      "[[4, 1, 1], [4, 0, 3]]\n",
      "[[4, 8, 2], [4, 9, 1]]\n",
      "[[5, 1, 0], [5, 0, 3]]\n",
      "[[5, 8, 0], [5, 9, 1]]\n",
      "[[6, 1, 3], [6, 0, 3]]\n",
      "[[6, 8, 2], [6, 9, 1]]\n",
      "[[7, 1, 0], [7, 0, 3]]\n",
      "[[7, 8, 0], [7, 9, 1]]\n",
      "[[8, 1, 2], [8, 0, 3]]\n",
      "[[8, 1, 3], [9, 1, 0]]\n",
      "[[8, 2, 1], [9, 2, 0]]\n",
      "[[8, 3, 0], [9, 3, 0]]\n",
      "[[8, 4, 1], [9, 4, 0]]\n",
      "[[8, 5, 0], [9, 5, 0]]\n",
      "[[8, 6, 3], [9, 6, 0]]\n",
      "[[8, 7, 1], [9, 7, 0]]\n",
      "[[8, 8, 0], [8, 9, 1]]\n",
      "[[8, 8, 3], [9, 8, 0]]\n"
     ]
    }
   ],
   "source": [
    "b538 = [\n",
    "'LUU?ULXL',\n",
    "'RLRLUGUU',\n",
    "'SLRLULXR',\n",
    "'UR?RSL?R',\n",
    "'RUURRRSL',\n",
    "'S?SLSSLR',\n",
    "'RLR?RL?L',\n",
    "'LRSRSLRL']\n",
    "board538 = []\n",
    "for row in b538:\n",
    "    board538.append(list(row))\n",
    "web = visualize_board(board538)\n",
    "web.show()"
   ]
  },
  {
   "cell_type": "code",
   "execution_count": 19,
   "metadata": {},
   "outputs": [
    {
     "data": {
      "text/plain": [
       "[['L', 'U', 'U', '?', 'U', 'L', 'X', 'L'],\n",
       " ['R', 'L', 'R', 'L', 'U', 'G', 'U', 'U'],\n",
       " ['S', 'L', 'R', 'L', 'U', 'L', 'X', 'R'],\n",
       " ['U', 'R', '?', 'R', 'S', 'L', '?', 'R'],\n",
       " ['R', 'U', 'U', 'R', 'R', 'R', 'S', 'L'],\n",
       " ['S', '?', 'S', 'L', 'S', 'S', 'L', 'R'],\n",
       " ['R', 'L', 'R', '?', 'R', 'L', '?', 'L'],\n",
       " ['L', 'R', 'S', 'R', 'S', 'L', 'R', 'L']]"
      ]
     },
     "execution_count": 19,
     "metadata": {},
     "output_type": "execute_result"
    }
   ],
   "source": [
    "board538"
   ]
  },
  {
   "cell_type": "code",
   "execution_count": null,
   "metadata": {},
   "outputs": [],
   "source": []
  },
  {
   "cell_type": "code",
   "execution_count": null,
   "metadata": {},
   "outputs": [],
   "source": []
  }
 ],
 "metadata": {
  "kernelspec": {
   "display_name": "Python 3",
   "language": "python",
   "name": "python3"
  },
  "language_info": {
   "codemirror_mode": {
    "name": "ipython",
    "version": 3
   },
   "file_extension": ".py",
   "mimetype": "text/x-python",
   "name": "python",
   "nbconvert_exporter": "python",
   "pygments_lexer": "ipython3",
   "version": "3.7.0"
  }
 },
 "nbformat": 4,
 "nbformat_minor": 2
}
